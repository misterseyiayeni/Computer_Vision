{
  "nbformat": 4,
  "nbformat_minor": 0,
  "metadata": {
    "colab": {
      "provenance": []
    },
    "kernelspec": {
      "name": "python3",
      "display_name": "Python 3"
    },
    "language_info": {
      "name": "python"
    }
  },
  "cells": [
    {
      "cell_type": "code",
      "execution_count": 1,
      "metadata": {
        "id": "hUhcv3crwgdx"
      },
      "outputs": [],
      "source": [
        "import requests\n",
        "import json"
      ]
    },
    {
      "cell_type": "code",
      "source": [
        "url = \"https://createml-prediction.cognitiveservices.azure.com/customvision/v3.0/Prediction/cdc5c8e7-8d21-4ca6-95ca-0fff94a53a85/classify/iterations/Cat%20Detection/image\"\n",
        "headers = {\n",
        "    \"Prediction-Key\": \"17cfd001ecaa4341b776ac53ae73eb61\",\n",
        "    \"Content-Type\": \"application/octet-stream\"\n",
        "}"
      ],
      "metadata": {
        "id": "DP1l72sCwmdJ"
      },
      "execution_count": 2,
      "outputs": []
    },
    {
      "cell_type": "code",
      "source": [
        "with open(\"55.jpg\", \"rb\") as image_file:\n",
        "    data = image_file.read()\n",
        "\n",
        "response = requests.post(url, headers=headers, data=data)\n",
        "print(response.json())"
      ],
      "metadata": {
        "colab": {
          "base_uri": "https://localhost:8080/"
        },
        "id": "pu3-t37nwpKA",
        "outputId": "0ac3d5ff-ed53-4d13-ffe0-389e4899dc42"
      },
      "execution_count": 4,
      "outputs": [
        {
          "output_type": "stream",
          "name": "stdout",
          "text": [
            "{'id': 'd2201d17-2cc3-4d3b-9460-d46e2ae4b6b7', 'project': 'cdc5c8e7-8d21-4ca6-95ca-0fff94a53a85', 'iteration': 'e8b14312-3655-4022-adab-24d7b88d9c67', 'created': '2023-12-12T11:23:02.462Z', 'predictions': [{'probability': 0.98917073, 'tagId': 'dfeb960a-f309-4dc0-affc-7499f1317e8e', 'tagName': 'Cat'}, {'probability': 0.010829241, 'tagId': '1c0083b5-4c96-478a-8e07-c9f6108c64a5', 'tagName': 'Animal'}]}\n"
          ]
        }
      ]
    }
  ]
}