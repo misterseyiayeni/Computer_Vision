{
  "nbformat": 4,
  "nbformat_minor": 0,
  "metadata": {
    "colab": {
      "provenance": []
    },
    "kernelspec": {
      "name": "python3",
      "display_name": "Python 3"
    },
    "language_info": {
      "name": "python"
    }
  },
  "cells": [
    {
      "cell_type": "code",
      "execution_count": 1,
      "metadata": {
        "id": "hUhcv3crwgdx"
      },
      "outputs": [],
      "source": [
        "import requests\n",
        "import json"
      ]
    },
    {
      "cell_type": "code",
      "source": [
        "# If you have an image file:\n",
        "\n",
        "url = \"https://createml-prediction.cognitiveservices.azure.com/customvision/v3.0/Prediction/cdc5c8e7-8d21-4ca6-95ca-0fff94a53a85/classify/iterations/Cat%20Detection/image\"\n",
        "headers = {\n",
        "    \"Prediction-Key\": \"17cfd001ecaa4341b776ac53ae73eb61\",\n",
        "    \"Content-Type\": \"application/octet-stream\"\n",
        "}\n",
        "\n",
        "with open(\"image 333.png\", \"rb\") as image_file:\n",
        "    data = image_file.read()\n",
        "\n",
        "response = requests.post(url, headers=headers, data=data)\n",
        "print(response.json())"
      ],
      "metadata": {
        "colab": {
          "base_uri": "https://localhost:8080/"
        },
        "id": "pu3-t37nwpKA",
        "outputId": "acb15cf1-c3e1-46e4-93c6-5a7a07eabb02"
      },
      "execution_count": 8,
      "outputs": [
        {
          "output_type": "stream",
          "name": "stdout",
          "text": [
            "{'id': '00ca9fa2-eadd-40c0-8e6c-b0932ccb54d5', 'project': 'cdc5c8e7-8d21-4ca6-95ca-0fff94a53a85', 'iteration': 'e8b14312-3655-4022-adab-24d7b88d9c67', 'created': '2023-12-12T11:38:01.335Z', 'predictions': [{'probability': 0.989929, 'tagId': 'dfeb960a-f309-4dc0-affc-7499f1317e8e', 'tagName': 'Cat'}, {'probability': 0.0100709675, 'tagId': '1c0083b5-4c96-478a-8e07-c9f6108c64a5', 'tagName': 'Animal'}]}\n"
          ]
        }
      ]
    },
    {
      "cell_type": "code",
      "source": [
        "# If you have an image URL:\n",
        "\n",
        "url = \"https://createml-prediction.cognitiveservices.azure.com/customvision/v3.0/Prediction/cdc5c8e7-8d21-4ca6-95ca-0fff94a53a85/classify/iterations/Cat%20Detection/url\"\n",
        "headers = {\n",
        "    \"Prediction-Key\": \"17cfd001ecaa4341b776ac53ae73eb61\",\n",
        "    \"Content-Type\": \"application/json\"\n",
        "}\n",
        "data = {\"Url\": \"https://pluspng.com/img-png/png-cute-cat-ginger-cat-1280.png\"}\n",
        "\n",
        "response = requests.post(url, headers=headers, data=json.dumps(data))\n",
        "print(response.json())"
      ],
      "metadata": {
        "colab": {
          "base_uri": "https://localhost:8080/"
        },
        "id": "gZj8F8NLyon9",
        "outputId": "41145469-7110-4c7a-a453-1908374195c9"
      },
      "execution_count": 11,
      "outputs": [
        {
          "output_type": "stream",
          "name": "stdout",
          "text": [
            "{'id': '9aa39bda-8f8e-4ac5-b587-b5da373812c4', 'project': 'cdc5c8e7-8d21-4ca6-95ca-0fff94a53a85', 'iteration': 'e8b14312-3655-4022-adab-24d7b88d9c67', 'created': '2023-12-12T11:49:08.625Z', 'predictions': [{'probability': 0.9739638, 'tagId': 'dfeb960a-f309-4dc0-affc-7499f1317e8e', 'tagName': 'Cat'}, {'probability': 0.026036164, 'tagId': '1c0083b5-4c96-478a-8e07-c9f6108c64a5', 'tagName': 'Animal'}]}\n"
          ]
        }
      ]
    }
  ]
}